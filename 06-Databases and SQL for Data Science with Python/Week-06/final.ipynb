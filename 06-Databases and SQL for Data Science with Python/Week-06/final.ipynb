{
 "cells": [
  {
   "cell_type": "code",
   "execution_count": 1,
   "metadata": {},
   "outputs": [],
   "source": [
    "%load_ext sql\n",
    "import sqlite3\n",
    "conn = sqlite3.connect(\"ChicagoData.db\")\n",
    "cur = conn.cursor()\n",
    "%sql sqlite:///ChicagoData.db\n"
   ]
  },
  {
   "cell_type": "code",
   "execution_count": 2,
   "metadata": {},
   "outputs": [
    {
     "data": {
      "text/plain": [
       "533"
      ]
     },
     "execution_count": 2,
     "metadata": {},
     "output_type": "execute_result"
    }
   ],
   "source": [
    "import pandas as pd\n",
    "pd.read_csv('ChicagoCensusData.csv').to_sql('CENSUS_DATA', conn)\n",
    "pd.read_csv('ChicagoPublicSchools.csv').to_sql('CHICAGO_PUBLIC_SCHOOLS', conn)\n",
    "pd.read_csv('ChicagoCrimeData.csv').to_sql('CHICAGO_CRIME_DATA', conn)\n"
   ]
  },
  {
   "cell_type": "markdown",
   "metadata": {},
   "source": [
    "# Joins\n",
    "## Question 1\n",
    "Write and execute a SQL query to list the school names, community names and average attendance for communities with a hardship index of 98."
   ]
  },
  {
   "cell_type": "code",
   "execution_count": 9,
   "metadata": {},
   "outputs": [
    {
     "name": "stdout",
     "output_type": "stream",
     "text": [
      " * sqlite:///ChicagoData.db\n",
      "Done.\n"
     ]
    },
    {
     "data": {
      "text/html": [
       "<table>\n",
       "    <thead>\n",
       "        <tr>\n",
       "            <th>NAME_OF_SCHOOL</th>\n",
       "            <th>COMMUNITY_AREA_NAME</th>\n",
       "            <th>AVERAGE_STUDENT_ATTENDANCE</th>\n",
       "        </tr>\n",
       "    </thead>\n",
       "    <tbody>\n",
       "        <tr>\n",
       "            <td>George Washington Carver Military Academy High School</td>\n",
       "            <td>RIVERDALE</td>\n",
       "            <td>91.60%</td>\n",
       "        </tr>\n",
       "        <tr>\n",
       "            <td>George Washington Carver Primary School</td>\n",
       "            <td>RIVERDALE</td>\n",
       "            <td>90.90%</td>\n",
       "        </tr>\n",
       "        <tr>\n",
       "            <td>Ira F Aldridge Elementary School</td>\n",
       "            <td>RIVERDALE</td>\n",
       "            <td>92.90%</td>\n",
       "        </tr>\n",
       "        <tr>\n",
       "            <td>William E B Dubois Elementary School</td>\n",
       "            <td>RIVERDALE</td>\n",
       "            <td>93.30%</td>\n",
       "        </tr>\n",
       "    </tbody>\n",
       "</table>"
      ],
      "text/plain": [
       "[('George Washington Carver Military Academy High School', 'RIVERDALE', '91.60%'),\n",
       " ('George Washington Carver Primary School', 'RIVERDALE', '90.90%'),\n",
       " ('Ira F Aldridge Elementary School', 'RIVERDALE', '92.90%'),\n",
       " ('William E B Dubois Elementary School', 'RIVERDALE', '93.30%')]"
      ]
     },
     "execution_count": 9,
     "metadata": {},
     "output_type": "execute_result"
    }
   ],
   "source": [
    "%%sql\n",
    "select school.NAME_OF_SCHOOL, school.COMMUNITY_AREA_NAME, school.AVERAGE_STUDENT_ATTENDANCE\n",
    "from CHICAGO_PUBLIC_SCHOOLS as school left join CENSUS_DATA as census\n",
    "on school.COMMUNITY_AREA_NUMBER = census.COMMUNITY_AREA_NUMBER\n",
    "where census.HARDSHIP_INDEX = 98\n"
   ]
  },
  {
   "cell_type": "markdown",
   "metadata": {},
   "source": [
    "## Question 2\n",
    "Write and execute a SQL query to list all crimes that took place at a school. Include case number, crime type and community name."
   ]
  },
  {
   "cell_type": "code",
   "execution_count": 21,
   "metadata": {},
   "outputs": [
    {
     "name": "stdout",
     "output_type": "stream",
     "text": [
      " * sqlite:///ChicagoData.db\n",
      "Done.\n"
     ]
    },
    {
     "data": {
      "text/html": [
       "<table>\n",
       "    <thead>\n",
       "        <tr>\n",
       "            <th>CASE_NUMBER</th>\n",
       "            <th>PRIMARY_TYPE</th>\n",
       "            <th>COMMUNITY_AREA_NAME</th>\n",
       "        </tr>\n",
       "    </thead>\n",
       "    <tbody>\n",
       "        <tr>\n",
       "            <td>HL353697</td>\n",
       "            <td>BATTERY</td>\n",
       "            <td>South Shore</td>\n",
       "        </tr>\n",
       "        <tr>\n",
       "            <td>HL725506</td>\n",
       "            <td>BATTERY</td>\n",
       "            <td>Lincoln Square</td>\n",
       "        </tr>\n",
       "        <tr>\n",
       "            <td>HP716225</td>\n",
       "            <td>BATTERY</td>\n",
       "            <td>Douglas</td>\n",
       "        </tr>\n",
       "        <tr>\n",
       "            <td>HH639427</td>\n",
       "            <td>BATTERY</td>\n",
       "            <td>Austin</td>\n",
       "        </tr>\n",
       "        <tr>\n",
       "            <td>JA460432</td>\n",
       "            <td>BATTERY</td>\n",
       "            <td>Ashburn</td>\n",
       "        </tr>\n",
       "        <tr>\n",
       "            <td>HS200939</td>\n",
       "            <td>CRIMINAL DAMAGE</td>\n",
       "            <td>Austin</td>\n",
       "        </tr>\n",
       "        <tr>\n",
       "            <td>HK577020</td>\n",
       "            <td>NARCOTICS</td>\n",
       "            <td>Rogers Park</td>\n",
       "        </tr>\n",
       "        <tr>\n",
       "            <td>HS305355</td>\n",
       "            <td>NARCOTICS</td>\n",
       "            <td>Brighton Park</td>\n",
       "        </tr>\n",
       "        <tr>\n",
       "            <td>HT315369</td>\n",
       "            <td>ASSAULT</td>\n",
       "            <td>East Garfield Park</td>\n",
       "        </tr>\n",
       "        <tr>\n",
       "            <td>HR585012</td>\n",
       "            <td>CRIMINAL TRESPASS</td>\n",
       "            <td>Ashburn</td>\n",
       "        </tr>\n",
       "    </tbody>\n",
       "</table>"
      ],
      "text/plain": [
       "[('HL353697', 'BATTERY', 'South Shore'),\n",
       " ('HL725506', 'BATTERY', 'Lincoln Square'),\n",
       " ('HP716225', 'BATTERY', 'Douglas'),\n",
       " ('HH639427', 'BATTERY', 'Austin'),\n",
       " ('JA460432', 'BATTERY', 'Ashburn'),\n",
       " ('HS200939', 'CRIMINAL DAMAGE', 'Austin'),\n",
       " ('HK577020', 'NARCOTICS', 'Rogers Park'),\n",
       " ('HS305355', 'NARCOTICS', 'Brighton Park'),\n",
       " ('HT315369', 'ASSAULT', 'East Garfield Park'),\n",
       " ('HR585012', 'CRIMINAL TRESPASS', 'Ashburn')]"
      ]
     },
     "execution_count": 21,
     "metadata": {},
     "output_type": "execute_result"
    }
   ],
   "source": [
    "%%sql\n",
    "select crime.CASE_NUMBER, crime.PRIMARY_TYPE, census.COMMUNITY_AREA_NAME\n",
    "from CHICAGO_CRIME_DATA as crime left join CENSUS_DATA as census\n",
    "on crime.COMMUNITY_AREA_NUMBER = census.COMMUNITY_AREA_NUMBER\n",
    "where crime.LOCATION_DESCRIPTION like '%SCHOOL%'\n"
   ]
  },
  {
   "cell_type": "markdown",
   "metadata": {},
   "source": [
    "# Creating A View\n",
    "## Question 1\n",
    "Write and execute a SQL statement to create a view showing the columns listed in the following table, with new column names as shown in the second column.\n",
    "\n",
    "Column name in CHICAGO_PUBLIC_SCHOOLS | Column name in view\n",
    "---|---\n",
    "NAME_OF_SCHOOL | School_Name\n",
    "Safety_Icon | Safety_Rating\n",
    "Family_Involvement_Icon | Family_Rating\n",
    "Environment_Icon | Environment_Rating\n",
    "Instruction_Icon | Instruction_Rating\n",
    "Leaders_Icon | Leaders_Rating\n",
    "Teachers_Icon | Teachers_Rating\n",
    "\n",
    "Write and execute a SQL statement that returns all of the columns from the view.\n",
    "\n",
    "Write and execute a SQL statement that returns just the school name and leaders rating from the view."
   ]
  },
  {
   "cell_type": "code",
   "execution_count": 22,
   "metadata": {},
   "outputs": [
    {
     "name": "stdout",
     "output_type": "stream",
     "text": [
      " * sqlite:///ChicagoData.db\n",
      "Done.\n"
     ]
    },
    {
     "data": {
      "text/plain": [
       "[]"
      ]
     },
     "execution_count": 22,
     "metadata": {},
     "output_type": "execute_result"
    }
   ],
   "source": [
    "%%sql\n",
    "create view school_info(School_Name, Safety_Rating, Family_Rating, Environment_Rating, Instruction_Rating, Leaders_Rating, Teachers_Rating) as\n",
    "select NAME_OF_SCHOOL, Safety_Icon, Family_Involvement_Icon, Environment_Icon, Instruction_Icon, Leaders_Icon, Teachers_Icon\n",
    "from CHICAGO_PUBLIC_SCHOOLS\n"
   ]
  },
  {
   "cell_type": "code",
   "execution_count": 24,
   "metadata": {},
   "outputs": [
    {
     "name": "stdout",
     "output_type": "stream",
     "text": [
      " * sqlite:///ChicagoData.db\n",
      "Done.\n"
     ]
    },
    {
     "data": {
      "text/html": [
       "<table>\n",
       "    <thead>\n",
       "        <tr>\n",
       "            <th>School_Name</th>\n",
       "            <th>Safety_Rating</th>\n",
       "            <th>Family_Rating</th>\n",
       "            <th>Environment_Rating</th>\n",
       "            <th>Instruction_Rating</th>\n",
       "            <th>Leaders_Rating</th>\n",
       "            <th>Teachers_Rating</th>\n",
       "        </tr>\n",
       "    </thead>\n",
       "    <tbody>\n",
       "        <tr>\n",
       "            <td>Abraham Lincoln Elementary School</td>\n",
       "            <td>Very Strong</td>\n",
       "            <td>Very Strong</td>\n",
       "            <td>Strong</td>\n",
       "            <td>Strong</td>\n",
       "            <td>Weak</td>\n",
       "            <td>Strong</td>\n",
       "        </tr>\n",
       "        <tr>\n",
       "            <td>Adam Clayton Powell Paideia Community Academy Elementary School</td>\n",
       "            <td>Average</td>\n",
       "            <td>Strong</td>\n",
       "            <td>Strong</td>\n",
       "            <td>Very Strong</td>\n",
       "            <td>Weak</td>\n",
       "            <td>Strong</td>\n",
       "        </tr>\n",
       "        <tr>\n",
       "            <td>Adlai E Stevenson Elementary School</td>\n",
       "            <td>Strong</td>\n",
       "            <td>NDA</td>\n",
       "            <td>Average</td>\n",
       "            <td>Weak</td>\n",
       "            <td>Weak</td>\n",
       "            <td>NDA</td>\n",
       "        </tr>\n",
       "        <tr>\n",
       "            <td>Agustin Lara Elementary Academy</td>\n",
       "            <td>Average</td>\n",
       "            <td>Average</td>\n",
       "            <td>Average</td>\n",
       "            <td>Weak</td>\n",
       "            <td>Weak</td>\n",
       "            <td>Average</td>\n",
       "        </tr>\n",
       "        <tr>\n",
       "            <td>Air Force Academy High School</td>\n",
       "            <td>Average</td>\n",
       "            <td>Strong</td>\n",
       "            <td>Strong</td>\n",
       "            <td>Average</td>\n",
       "            <td>Weak</td>\n",
       "            <td>Average</td>\n",
       "        </tr>\n",
       "        <tr>\n",
       "            <td>Albany Park Multicultural Academy</td>\n",
       "            <td>Strong</td>\n",
       "            <td>Weak</td>\n",
       "            <td>Strong</td>\n",
       "            <td>Strong</td>\n",
       "            <td>Weak</td>\n",
       "            <td>Average</td>\n",
       "        </tr>\n",
       "        <tr>\n",
       "            <td>Albert G Lane Technical High School</td>\n",
       "            <td>Very Strong</td>\n",
       "            <td>NDA</td>\n",
       "            <td>Strong</td>\n",
       "            <td>Average</td>\n",
       "            <td>Weak</td>\n",
       "            <td>NDA</td>\n",
       "        </tr>\n",
       "        <tr>\n",
       "            <td>Albert R Sabin Elementary Magnet School</td>\n",
       "            <td>Strong</td>\n",
       "            <td>NDA</td>\n",
       "            <td>Weak</td>\n",
       "            <td>Very Weak</td>\n",
       "            <td>Weak</td>\n",
       "            <td>NDA</td>\n",
       "        </tr>\n",
       "        <tr>\n",
       "            <td>Alcott High School for the Humanities</td>\n",
       "            <td>Strong</td>\n",
       "            <td>NDA</td>\n",
       "            <td>Strong</td>\n",
       "            <td>Average</td>\n",
       "            <td>Weak</td>\n",
       "            <td>NDA</td>\n",
       "        </tr>\n",
       "        <tr>\n",
       "            <td>Alessandro Volta Elementary School</td>\n",
       "            <td>Average</td>\n",
       "            <td>Strong</td>\n",
       "            <td>Weak</td>\n",
       "            <td>Weak</td>\n",
       "            <td>Weak</td>\n",
       "            <td>Average</td>\n",
       "        </tr>\n",
       "    </tbody>\n",
       "</table>"
      ],
      "text/plain": [
       "[('Abraham Lincoln Elementary School', 'Very Strong', 'Very Strong', 'Strong', 'Strong', 'Weak', 'Strong'),\n",
       " ('Adam Clayton Powell Paideia Community Academy Elementary School', 'Average', 'Strong', 'Strong', 'Very Strong', 'Weak', 'Strong'),\n",
       " ('Adlai E Stevenson Elementary School', 'Strong', 'NDA', 'Average', 'Weak', 'Weak', 'NDA'),\n",
       " ('Agustin Lara Elementary Academy', 'Average', 'Average', 'Average', 'Weak', 'Weak', 'Average'),\n",
       " ('Air Force Academy High School', 'Average', 'Strong', 'Strong', 'Average', 'Weak', 'Average'),\n",
       " ('Albany Park Multicultural Academy', 'Strong', 'Weak', 'Strong', 'Strong', 'Weak', 'Average'),\n",
       " ('Albert G Lane Technical High School', 'Very Strong', 'NDA', 'Strong', 'Average', 'Weak', 'NDA'),\n",
       " ('Albert R Sabin Elementary Magnet School', 'Strong', 'NDA', 'Weak', 'Very Weak', 'Weak', 'NDA'),\n",
       " ('Alcott High School for the Humanities', 'Strong', 'NDA', 'Strong', 'Average', 'Weak', 'NDA'),\n",
       " ('Alessandro Volta Elementary School', 'Average', 'Strong', 'Weak', 'Weak', 'Weak', 'Average')]"
      ]
     },
     "execution_count": 24,
     "metadata": {},
     "output_type": "execute_result"
    }
   ],
   "source": [
    "%%sql\n",
    "select * from school_info\n",
    "limit 10\n"
   ]
  },
  {
   "cell_type": "code",
   "execution_count": 26,
   "metadata": {},
   "outputs": [
    {
     "name": "stdout",
     "output_type": "stream",
     "text": [
      " * sqlite:///ChicagoData.db\n",
      "Done.\n"
     ]
    },
    {
     "data": {
      "text/html": [
       "<table>\n",
       "    <thead>\n",
       "        <tr>\n",
       "            <th>School_Name</th>\n",
       "            <th>Leaders_Rating</th>\n",
       "        </tr>\n",
       "    </thead>\n",
       "    <tbody>\n",
       "        <tr>\n",
       "            <td>Abraham Lincoln Elementary School</td>\n",
       "            <td>Weak</td>\n",
       "        </tr>\n",
       "        <tr>\n",
       "            <td>Adam Clayton Powell Paideia Community Academy Elementary School</td>\n",
       "            <td>Weak</td>\n",
       "        </tr>\n",
       "        <tr>\n",
       "            <td>Adlai E Stevenson Elementary School</td>\n",
       "            <td>Weak</td>\n",
       "        </tr>\n",
       "        <tr>\n",
       "            <td>Agustin Lara Elementary Academy</td>\n",
       "            <td>Weak</td>\n",
       "        </tr>\n",
       "        <tr>\n",
       "            <td>Air Force Academy High School</td>\n",
       "            <td>Weak</td>\n",
       "        </tr>\n",
       "        <tr>\n",
       "            <td>Albany Park Multicultural Academy</td>\n",
       "            <td>Weak</td>\n",
       "        </tr>\n",
       "        <tr>\n",
       "            <td>Albert G Lane Technical High School</td>\n",
       "            <td>Weak</td>\n",
       "        </tr>\n",
       "        <tr>\n",
       "            <td>Albert R Sabin Elementary Magnet School</td>\n",
       "            <td>Weak</td>\n",
       "        </tr>\n",
       "        <tr>\n",
       "            <td>Alcott High School for the Humanities</td>\n",
       "            <td>Weak</td>\n",
       "        </tr>\n",
       "        <tr>\n",
       "            <td>Alessandro Volta Elementary School</td>\n",
       "            <td>Weak</td>\n",
       "        </tr>\n",
       "    </tbody>\n",
       "</table>"
      ],
      "text/plain": [
       "[('Abraham Lincoln Elementary School', 'Weak'),\n",
       " ('Adam Clayton Powell Paideia Community Academy Elementary School', 'Weak'),\n",
       " ('Adlai E Stevenson Elementary School', 'Weak'),\n",
       " ('Agustin Lara Elementary Academy', 'Weak'),\n",
       " ('Air Force Academy High School', 'Weak'),\n",
       " ('Albany Park Multicultural Academy', 'Weak'),\n",
       " ('Albert G Lane Technical High School', 'Weak'),\n",
       " ('Albert R Sabin Elementary Magnet School', 'Weak'),\n",
       " ('Alcott High School for the Humanities', 'Weak'),\n",
       " ('Alessandro Volta Elementary School', 'Weak')]"
      ]
     },
     "execution_count": 26,
     "metadata": {},
     "output_type": "execute_result"
    }
   ],
   "source": [
    "%%sql\n",
    "select School_Name, Leaders_Rating\n",
    "from school_info\n",
    "limit 10\n"
   ]
  },
  {
   "cell_type": "markdown",
   "metadata": {},
   "source": [
    "# Stored Procedures\n",
    "\n",
    "## Question 1\n",
    "Write the structure of a query to create or replace a stored procedure called UPDATE_LEADERS_SCORE that takes a in_School_ID parameter as an integer and a in_Leader_Score parameter as an integer."
   ]
  },
  {
   "cell_type": "markdown",
   "metadata": {},
   "source": [
    "```sql\n",
    "DELIMITER //\n",
    "CREATE PROCEDURE UPDATE_LEADERS_SCORE(\n",
    "    in in_School_ID integer,\n",
    "    in in_Leader_Score integer\n",
    ")\n",
    "BEGIN\n",
    "\n",
    "END //\n",
    "DELIMITER ;\n",
    "```"
   ]
  },
  {
   "cell_type": "markdown",
   "metadata": {},
   "source": [
    "## Question 2\n",
    "Inside your stored procedure, write a SQL statement to update the Leaders_Score field in the CHICAGO_PUBLIC_SCHOOLS table for the school identified by in_School_ID to the value in the in_Leader_Score parameter.\n"
   ]
  },
  {
   "cell_type": "markdown",
   "metadata": {},
   "source": [
    "```sql\n",
    "DELIMITER //\n",
    "CREATE PROCEDURE UPDATE_LEADERS_SCORE(\n",
    "    in in_School_ID integer,\n",
    "    in in_Leader_Score integer\n",
    ")\n",
    "BEGIN\n",
    "\n",
    "   UPDATE CHICAGO_PUBLIC_SCHOOLS\n",
    "    SET Leaders_Score = in_Leader_Score\n",
    "    WHERE School_ID = in_School_ID;\n",
    "\n",
    "END //\n",
    "DELIMITER ;\n",
    "```\n"
   ]
  },
  {
   "cell_type": "markdown",
   "metadata": {},
   "source": [
    "## Question 3\n",
    "Inside your stored procedure, write a SQL IF statement to update the Leaders_Icon field in the CHICAGO_PUBLIC_SCHOOLS table for the school identified by in_School_ID using the following information.\n",
    "\n",
    "Score lower limit | Score upper limit | Icon\n",
    "---|---|---\n",
    "80 | 99 | Very strong\n",
    "60 | 79 | Strong\n",
    "40 | 59 | Average\n",
    "20 | 39 | Weak\n",
    "0 | 19 | Very weak"
   ]
  },
  {
   "cell_type": "markdown",
   "metadata": {},
   "source": [
    "```sql\n",
    "DELIMITER //\n",
    "CREATE PROCEDURE UPDATE_LEADERS_SCORE(\n",
    "    in in_School_ID integer,\n",
    "    in in_Leader_Score integer\n",
    ")\n",
    "BEGIN\n",
    "\n",
    "   UPDATE CHICAGO_PUBLIC_SCHOOLS\n",
    "    SET Leaders_Score = in_Leader_Score\n",
    "    WHERE School_ID = in_School_ID;\n",
    "\n",
    "    IF in_Leader_Score >= 80 THEN\n",
    "        UPDATE CHICAGO_PUBLIC_SCHOOLS\n",
    "        SET Leaders_Icon = 'Very strong'\n",
    "        WHERE School_ID = in_School_ID;\n",
    "    ELSEIF in_Leader_Score >= 60 THEN\n",
    "        UPDATE CHICAGO_PUBLIC_SCHOOLS\n",
    "        SET Leaders_Icon = 'Strong'\n",
    "        WHERE School_ID = in_School_ID;\n",
    "    ELSEIF in_Leader_Score >= 40 THEN\n",
    "        UPDATE CHICAGO_PUBLIC_SCHOOLS\n",
    "        SET Leaders_Icon = 'Average'\n",
    "        WHERE School_ID = in_School_ID;\n",
    "    ELSEIF in_Leader_Score >= 20 THEN\n",
    "        UPDATE CHICAGO_PUBLIC_SCHOOLS\n",
    "        SET Leaders_Icon = 'Weak'\n",
    "        WHERE School_ID = in_School_ID;\n",
    "    ELSE\n",
    "        UPDATE CHICAGO_PUBLIC_SCHOOLS\n",
    "        SET Leaders_Icon = 'Very weak'\n",
    "        WHERE School_ID = in_School_ID;\n",
    "    END IF;\n",
    "\n",
    "END //\n",
    "DELIMITER ;\n",
    "```"
   ]
  },
  {
   "cell_type": "markdown",
   "metadata": {},
   "source": [
    "## Question 4\n",
    "Run your code to create the stored procedure."
   ]
  },
  {
   "cell_type": "markdown",
   "metadata": {},
   "source": [
    "```sql\n",
    "%%sql\n",
    "DELIMITER //\n",
    "CREATE PROCEDURE UPDATE_LEADERS_SCORE(\n",
    "    in in_School_ID integer,\n",
    "    in in_Leader_Score integer\n",
    ")\n",
    "BEGIN\n",
    "\n",
    "   UPDATE CHICAGO_PUBLIC_SCHOOLS\n",
    "    SET Leaders_Score = in_Leader_Score\n",
    "    WHERE School_ID = in_School_ID;\n",
    "\n",
    "    IF in_Leader_Score >= 80 THEN\n",
    "        UPDATE CHICAGO_PUBLIC_SCHOOLS\n",
    "        SET Leaders_Icon = 'Very strong'\n",
    "        WHERE School_ID = in_School_ID;\n",
    "    ELSEIF in_Leader_Score >= 60 THEN\n",
    "        UPDATE CHICAGO_PUBLIC_SCHOOLS\n",
    "        SET Leaders_Icon = 'Strong'\n",
    "        WHERE School_ID = in_School_ID;\n",
    "    ELSEIF in_Leader_Score >= 40 THEN\n",
    "        UPDATE CHICAGO_PUBLIC_SCHOOLS\n",
    "        SET Leaders_Icon = 'Average'\n",
    "        WHERE School_ID = in_School_ID;\n",
    "    ELSEIF in_Leader_Score >= 20 THEN\n",
    "        UPDATE CHICAGO_PUBLIC_SCHOOLS\n",
    "        SET Leaders_Icon = 'Weak'\n",
    "        WHERE School_ID = in_School_ID;\n",
    "    ELSE\n",
    "        UPDATE CHICAGO_PUBLIC_SCHOOLS\n",
    "        SET Leaders_Icon = 'Very weak'\n",
    "        WHERE School_ID = in_School_ID;\n",
    "    END IF;\n",
    "\n",
    "END //\n",
    "DELIMITER ;\n",
    "```\n"
   ]
  },
  {
   "cell_type": "markdown",
   "metadata": {},
   "source": [
    "# Using Transactions\n",
    "## Question 1\n",
    "Update your stored procedure definition. Add a generic ELSE clause to the IF statement that rolls back the current work if the score did not fit any of the preceding categories."
   ]
  },
  {
   "cell_type": "markdown",
   "metadata": {},
   "source": [
    "```sql\n",
    "DELIMITER //\n",
    "CREATE PROCEDURE UPDATE_LEADERS_SCORE(\n",
    "    in in_School_ID integer,\n",
    "    in in_Leader_Score integer\n",
    ")\n",
    "BEGIN\n",
    "    DECLARE EXIT HANDLER FOR SQLEXCEPTION\n",
    "    BEGIN\n",
    "        ROLLBACK;\n",
    "        RESIGNAL;\n",
    "    END;                \n",
    "     \n",
    "    START TRANSACTION;\n",
    "\n",
    "    UPDATE CHICAGO_PUBLIC_SCHOOLS\n",
    "    SET Leaders_Score = in_Leader_Score\n",
    "    WHERE School_ID = in_School_ID;\n",
    "\n",
    "    IF in_Leader_Score > 100 THEN\n",
    "        ROLLBACK;\n",
    "    ELSEIF in_Leader_Score >= 80 THEN\n",
    "        UPDATE CHICAGO_PUBLIC_SCHOOLS\n",
    "        SET Leaders_Icon = 'Very strong'\n",
    "        WHERE School_ID = in_School_ID;\n",
    "    ELSEIF in_Leader_Score >= 60 THEN\n",
    "        UPDATE CHICAGO_PUBLIC_SCHOOLS\n",
    "        SET Leaders_Icon = 'Strong'\n",
    "        WHERE School_ID = in_School_ID;\n",
    "    ELSEIF in_Leader_Score >= 40 THEN\n",
    "        UPDATE CHICAGO_PUBLIC_SCHOOLS\n",
    "        SET Leaders_Icon = 'Average'\n",
    "        WHERE School_ID = in_School_ID;\n",
    "    ELSEIF in_Leader_Score >= 20 THEN\n",
    "        UPDATE CHICAGO_PUBLIC_SCHOOLS\n",
    "        SET Leaders_Icon = 'Weak'\n",
    "        WHERE School_ID = in_School_ID;\n",
    "    ELSEIF in_Leader_Score >= 0 THEN\n",
    "        UPDATE CHICAGO_PUBLIC_SCHOOLS\n",
    "        SET Leaders_Icon = 'Very weak'\n",
    "        WHERE School_ID = in_School_ID;\n",
    "    ELSE\n",
    "        ROLLBACK;\n",
    "    END IF;\n",
    "\n",
    "    COMMIT;\n",
    "\n",
    "END //\n",
    "DELIMITER ;\n",
    "```\n"
   ]
  },
  {
   "cell_type": "markdown",
   "metadata": {},
   "source": [
    "## Question 2\n",
    "Update your stored procedure definition again. Add a statement to commit the current unit of work at the end of the procedure."
   ]
  },
  {
   "cell_type": "code",
   "execution_count": null,
   "metadata": {},
   "outputs": [],
   "source": []
  }
 ],
 "metadata": {
  "kernelspec": {
   "display_name": ".venv",
   "language": "python",
   "name": "python3"
  },
  "language_info": {
   "codemirror_mode": {
    "name": "ipython",
    "version": 3
   },
   "file_extension": ".py",
   "mimetype": "text/x-python",
   "name": "python",
   "nbconvert_exporter": "python",
   "pygments_lexer": "ipython3",
   "version": "3.11.0"
  }
 },
 "nbformat": 4,
 "nbformat_minor": 2
}
